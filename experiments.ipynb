{
 "metadata": {
  "language_info": {
   "codemirror_mode": {
    "name": "ipython",
    "version": 3
   },
   "file_extension": ".py",
   "mimetype": "text/x-python",
   "name": "python",
   "nbconvert_exporter": "python",
   "pygments_lexer": "ipython3",
   "version": "3.7.3"
  },
  "orig_nbformat": 2,
  "kernelspec": {
   "name": "python37332bita337cb3d562a459886fc6e869b497776",
   "display_name": "Python 3.7.3 32-bit"
  },
  "metadata": {
   "interpreter": {
    "hash": "34d317d93a37d772ab695795c108f15790d28cc6671edffe18ba0ccb60337721"
   }
  }
 },
 "nbformat": 4,
 "nbformat_minor": 2,
 "cells": [
  {
   "cell_type": "code",
   "execution_count": 1,
   "metadata": {},
   "outputs": [],
   "source": [
    "filenames = [\n",
    "    'O2 Grouper Pipeline - Task List.xlsx',\n",
    "    'P2 v3 Authorization_DS manager - list of tasks.xlsx',\n",
    "    'P2 v3 Replatforming Tasks List.xlsx',\n",
    "    # 'P2 testing tasks.xlsx',\n",
    "]\n"
   ]
  },
  {
   "cell_type": "code",
   "execution_count": 2,
   "metadata": {
    "tags": []
   },
   "outputs": [
    {
     "output_type": "stream",
     "name": "stdout",
     "text": [
      "Ingesting:  O2 Grouper Pipeline - Task List.xlsx\n",
      "!!! FINISHED !!!\n",
      "Finished ingestion:  O2 Grouper Pipeline - Task List.xlsx\n",
      "Ingesting:  P2 v3 Authorization_DS manager - list of tasks.xlsx\n",
      "!!! FINISHED !!!\n",
      "Finished ingestion:  P2 v3 Authorization_DS manager - list of tasks.xlsx\n",
      "Ingesting:  P2 v3 Replatforming Tasks List.xlsx\n",
      "!!! FINISHED !!!\n",
      "Finished ingestion:  P2 v3 Replatforming Tasks List.xlsx\n"
     ]
    }
   ],
   "source": [
    "import tools.dev_o2_excel_ingestor as o2\n",
    "\n",
    "for filename in filenames:\n",
    "    print(\"Ingesting: \", filename)\n",
    "    rdf = o2.generate_rdf_from_xlsx('./tools/', filename)\n",
    "    o2.send_rdf_to_dgraph('localhost:9080', rdf)\n",
    "    print(\"Finished ingestion: \", filename)\n",
    "\n"
   ]
  },
  {
   "cell_type": "code",
   "execution_count": 1,
   "metadata": {},
   "outputs": [
    {
     "output_type": "stream",
     "name": "stdout",
     "text": [
      "Finished.\n"
     ]
    }
   ],
   "source": [
    "import tools.lib.pmtx_client.query_baselines as rb\n",
    "\n",
    "\n",
    "url = 'http://localhost:8080/graphql'\n",
    "\n",
    "\n",
    "query_project_filter = {\n",
    "    \"name\": {\"allofterms\": \"P2 v3 Replatforming Tasks List.xlsx\"}, \n",
    "    \"or\": {\n",
    "        \"name\": {\"allofterms\": \"O2 Grouper Pipeline - Task List.xlsx\"}, \n",
    "        \"or\": {\n",
    "            \"name\": {\"allofterms\": \"P2 v3 Authorization_DS manager - list of tasks.xlsx\"}\n",
    "        }\n",
    "    }\n",
    "}\n",
    "\n",
    "\n",
    "\n",
    "\n",
    "normalized_baseline = rb.request_and_normalize_baselines_from_pmtx(url, query_project_filter)\n",
    "\n",
    "dfp, dfd = rb.baseline_to_pandas_df(normalized_baseline)\n",
    "\n",
    "print(\"Finished.\")\n"
   ]
  },
  {
   "cell_type": "code",
   "execution_count": 2,
   "metadata": {},
   "outputs": [
    {
     "output_type": "stream",
     "name": "stderr",
     "text": [
      "d:\\pmt_x\\tools\\lib\\primitive_estimation.py:289: SettingWithCopyWarning: \n",
      "A value is trying to be set on a copy of a slice from a DataFrame\n",
      "\n",
      "See the caveats in the documentation: https://pandas.pydata.org/pandas-docs/stable/user_guide/indexing.html#returning-a-view-versus-a-copy\n",
      "  self.lp.start[self.lp.start.isnull()] = partial_update_from\n",
      "d:\\pmt_x\\tools\\lib\\primitive_estimation.py:145: SettingWithCopyWarning: \n",
      "A value is trying to be set on a copy of a slice from a DataFrame\n",
      "\n",
      "See the caveats in the documentation: https://pandas.pydata.org/pandas-docs/stable/user_guide/indexing.html#returning-a-view-versus-a-copy\n",
      "  new_row['project_id'] = None\n",
      "d:\\pmt_x\\tools\\lib\\primitive_estimation.py:147: SettingWithCopyWarning: \n",
      "A value is trying to be set on a copy of a slice from a DataFrame\n",
      "\n",
      "See the caveats in the documentation: https://pandas.pydata.org/pandas-docs/stable/user_guide/indexing.html#returning-a-view-versus-a-copy\n",
      "  new_row['start'] = self.av.at[index, 'finish']\n",
      "C:\\Users\\Art\\AppData\\Local\\Programs\\Python\\Python37-32\\lib\\site-packages\\pandas\\core\\indexing.py:670: SettingWithCopyWarning: \n",
      "A value is trying to be set on a copy of a slice from a DataFrame\n",
      "\n",
      "See the caveats in the documentation: https://pandas.pydata.org/pandas-docs/stable/user_guide/indexing.html#returning-a-view-versus-a-copy\n",
      "  iloc._setitem_with_indexer(indexer, value)\n",
      "Preliminary assignment quality: 79\n",
      "Project finish timestamp: 2021-06-01 15:30:00.708905+00:00\n",
      "Calculation time [s]: 7.854051828384399\n",
      "Unassigned workers time during project: 27 days 00:00:00\n",
      "Finished.\n"
     ]
    }
   ],
   "source": [
    "from time import time\n",
    "import pandas as pd\n",
    "\n",
    "import tools.lib.primitive_estimation as estimator\n",
    "\n",
    "\n",
    "\n",
    "\n",
    "solver = estimator.ProposeAssigment()\n",
    "\n",
    "start_date = dfp.start.min()\n",
    "\n",
    "solver.projects = dfp.copy(deep=True)\n",
    "solver.dependencies = dfd.copy(deep=True)\n",
    "# solver.av = pd.DataFrame([], columns=['user_id', 'start', 'finish'])\n",
    "solver.av = estimator.create_availability_calendar(number_of_users=7)\n",
    "# solver.av = expander.create_availability_frame()\n",
    "\n",
    "# Calculation part\n",
    "\n",
    "solver.initialize(start_date)\n",
    "\n",
    "\n",
    "algo_time_start = time()\n",
    "\n",
    "\n",
    "# finish_date = solver.assign_projects_infinite_resources()\n",
    "# finish_date = solver.assign_projects_to_resources_first_free(one_worker_per_project=True)\n",
    "# finish_date = solver.assign_projects_by_start_based_on_infinite_resources(one_worker_per_project=True)\n",
    "finish_date = solver.assign_projects_by_start_based_on_infinite_resources(partial_update=True, partial_update_from=pd.Timestamp('2021-01-01', tz='UTC'), one_worker_per_project=True)\n",
    "\n",
    "solver.update_projects()\n",
    "\n",
    "algo_time_finish = time()\n",
    "\n",
    "print('Project finish timestamp: ' + str(finish_date))\n",
    "print('Calculation time [s]: ' + str(algo_time_finish - algo_time_start))\n",
    "print('Unassigned workers time during project: ' + str((solver.av[solver.av.project_id.isnull() & (solver.av.start <= finish_date)].finish - solver.av[solver.av.project_id.isnull() & (solver.av.start <= finish_date)].start).sum()))\n",
    "\n",
    "print(\"Finished.\")\n",
    "\n",
    "\n"
   ]
  },
  {
   "cell_type": "code",
   "execution_count": 4,
   "metadata": {},
   "outputs": [
    {
     "output_type": "stream",
     "name": "stdout",
     "text": [
      "Finished.\n"
     ]
    }
   ],
   "source": [
    "import tools.lib.pmtx_client.mutate_baselines as mb\n",
    "\n",
    "\n",
    "root_id = \"0x743\"\n",
    "# baseline_name = \"infinite_resources_6\"\n",
    "baseline_name = \"limited_5\"\n",
    "\n",
    "\n",
    "baseline_id = mb.add_baseline_and_return_id(url, baseline_name, root_id)\n",
    "mb.add_project_baseline(url, solver.projects, baseline_id, root_id)\n",
    "# TODO: add dependencies\n",
    "\n",
    "print(\"Finished.\")"
   ]
  },
  {
   "cell_type": "code",
   "execution_count": null,
   "metadata": {},
   "outputs": [],
   "source": []
  }
 ]
}