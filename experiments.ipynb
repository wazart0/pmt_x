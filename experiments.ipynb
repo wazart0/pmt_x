{
 "metadata": {
  "language_info": {
   "codemirror_mode": {
    "name": "ipython",
    "version": 3
   },
   "file_extension": ".py",
   "mimetype": "text/x-python",
   "name": "python",
   "nbconvert_exporter": "python",
   "pygments_lexer": "ipython3",
   "version": "3.7.3"
  },
  "orig_nbformat": 2,
  "kernelspec": {
   "name": "python37332bita337cb3d562a459886fc6e869b497776",
   "display_name": "Python 3.7.3 32-bit"
  },
  "metadata": {
   "interpreter": {
    "hash": "34d317d93a37d772ab695795c108f15790d28cc6671edffe18ba0ccb60337721"
   }
  }
 },
 "nbformat": 4,
 "nbformat_minor": 2,
 "cells": [
  {
   "cell_type": "code",
   "execution_count": 1,
   "metadata": {},
   "outputs": [],
   "source": [
    "filenames = [\n",
    "    'O2 Grouper Pipeline - Task List.xlsx',\n",
    "    'P2 v3 Authorization_DS manager - list of tasks.xlsx',\n",
    "    'P2 v3 Replatforming Tasks List.xlsx',\n",
    "    # 'P2 testing tasks.xlsx',\n",
    "]\n"
   ]
  },
  {
   "cell_type": "code",
   "execution_count": 2,
   "metadata": {
    "tags": []
   },
   "outputs": [
    {
     "output_type": "stream",
     "name": "stdout",
     "text": [
      "Ingesting:  O2 Grouper Pipeline - Task List.xlsx\n",
      "!!! FINISHED !!!\n",
      "Finished ingestion:  O2 Grouper Pipeline - Task List.xlsx\n",
      "Ingesting:  P2 v3 Authorization_DS manager - list of tasks.xlsx\n",
      "!!! FINISHED !!!\n",
      "Finished ingestion:  P2 v3 Authorization_DS manager - list of tasks.xlsx\n",
      "Ingesting:  P2 v3 Replatforming Tasks List.xlsx\n",
      "!!! FINISHED !!!\n",
      "Finished ingestion:  P2 v3 Replatforming Tasks List.xlsx\n"
     ]
    }
   ],
   "source": [
    "import tools.dev_o2_excel_ingestor as o2\n",
    "\n",
    "for filename in filenames:\n",
    "    print(\"Ingesting: \", filename)\n",
    "    rdf = o2.generate_rdf_from_xlsx('./tools/', filename)\n",
    "    o2.send_rdf_to_dgraph('localhost:9080', rdf)\n",
    "    print(\"Finished ingestion: \", filename)\n",
    "\n"
   ]
  },
  {
   "cell_type": "code",
   "execution_count": 1,
   "metadata": {},
   "outputs": [
    {
     "output_type": "stream",
     "name": "stdout",
     "text": [
      "Finished.\n"
     ]
    }
   ],
   "source": [
    "import tools.lib.pmtx_client.query_baselines as rb\n",
    "import requests\n",
    "import json\n",
    "import pandas as pd\n",
    "\n",
    "\n",
    "url = 'http://localhost:8080/graphql'\n",
    "\n",
    "\n",
    "query_project_filter = {\n",
    "    \"or\": [\n",
    "        {\"name\": {\"allofterms\": \"P2 v3 Replatforming Tasks List.xlsx\"}},\n",
    "        # {\"name\": {\"allofterms\": \"O2 Grouper Pipeline - Task List.xlsx\"}},\n",
    "        # {\"name\": {\"allofterms\": \"P2 v3 Authorization_DS manager - list of tasks.xlsx\"}}\n",
    "    ]\n",
    "}\n",
    "\n",
    "\n",
    "normalized_baseline = rb.request_and_normalize_baselines_from_pmtx(url, query_project_filter)\n",
    "dfp, dfd = rb.baseline_to_pandas_df(normalized_baseline)\n",
    "\n",
    "\n",
    "\n",
    "query = '''\n",
    "    query ($projects_ids:[ID!]) {\n",
    "        queryProject (filter: {and: [{id: $projects_ids} ]}) {\n",
    "            id\n",
    "            customFields\n",
    "        }\n",
    "    }\n",
    "'''\n",
    "\n",
    "r = requests.post(url=url, json={\"query\": query, \"variables\": {\"projects_ids\": dfp.project_id.to_list()}})\n",
    "\n",
    "project_details = r.json()['data']['queryProject']\n",
    "\n",
    "for project in project_details:\n",
    "    if project['customFields'] is not None:\n",
    "        details = json.loads(project['customFields'])\n",
    "        project['sprint'] = (int(details['sprint'].split(' ')[1]) if details['sprint'].split(' ')[1].isdigit() else None) if 'sprint' in details else None\n",
    "    else: \n",
    "        project['sprint'] = None\n",
    "    del project['customFields']\n",
    "\n",
    "project_details = pd.DataFrame(project_details)\n",
    "dfp = dfp.merge(project_details, how='left', left_on='project_id', right_on='id')\n",
    "dfp.drop(columns=['id'], inplace=True)\n",
    "\n",
    "\n",
    "print(\"Finished.\")\n"
   ]
  },
  {
   "cell_type": "code",
   "execution_count": 2,
   "metadata": {},
   "outputs": [
    {
     "output_type": "execute_result",
     "data": {
      "text/plain": [
       "Empty DataFrame\n",
       "Columns: [finish_x, project_id, worktime, start, finish_y]\n",
       "Index: []"
      ],
      "text/html": "<div>\n<style scoped>\n    .dataframe tbody tr th:only-of-type {\n        vertical-align: middle;\n    }\n\n    .dataframe tbody tr th {\n        vertical-align: top;\n    }\n\n    .dataframe thead th {\n        text-align: right;\n    }\n</style>\n<table border=\"1\" class=\"dataframe\">\n  <thead>\n    <tr style=\"text-align: right;\">\n      <th></th>\n      <th>finish_x</th>\n      <th>project_id</th>\n      <th>worktime</th>\n      <th>start</th>\n      <th>finish_y</th>\n    </tr>\n  </thead>\n  <tbody>\n  </tbody>\n</table>\n</div>"
     },
     "metadata": {},
     "execution_count": 2
    }
   ],
   "source": [
    "import tools.lib.task_assignee_estimators.solver_base as base\n",
    "\n",
    "est = base.SolverBase(dfp,dfd)\n",
    "\n",
    "est.config()\n",
    "est.initialize()\n",
    "\n",
    "est.find_incorrect_dependencies_FS()\n",
    "\n",
    "# est.lp\n",
    "\n",
    "# dfp[dfp.start.notnull() & dfp.finish.notnull()]"
   ]
  },
  {
   "cell_type": "code",
   "execution_count": 3,
   "metadata": {},
   "outputs": [
    {
     "output_type": "stream",
     "name": "stderr",
     "text": [
      "d:\\pmt_x\\tools\\lib\\task_assignee_estimators\\primitive_estimation.py:323: SettingWithCopyWarning: \n",
      "A value is trying to be set on a copy of a slice from a DataFrame\n",
      "\n",
      "See the caveats in the documentation: https://pandas.pydata.org/pandas-docs/stable/user_guide/indexing.html#returning-a-view-versus-a-copy\n",
      "  self.lp.start[self.lp.start.isnull()] = partial_update_from\n",
      "d:\\pmt_x\\tools\\lib\\task_assignee_estimators\\primitive_estimation.py:144: SettingWithCopyWarning: \n",
      "A value is trying to be set on a copy of a slice from a DataFrame\n",
      "\n",
      "See the caveats in the documentation: https://pandas.pydata.org/pandas-docs/stable/user_guide/indexing.html#returning-a-view-versus-a-copy\n",
      "  new_row['project_id'] = None\n",
      "d:\\pmt_x\\tools\\lib\\task_assignee_estimators\\primitive_estimation.py:146: SettingWithCopyWarning: \n",
      "A value is trying to be set on a copy of a slice from a DataFrame\n",
      "\n",
      "See the caveats in the documentation: https://pandas.pydata.org/pandas-docs/stable/user_guide/indexing.html#returning-a-view-versus-a-copy\n",
      "  new_row['start'] = self.av.at[index, 'finish']\n",
      "C:\\Users\\Art\\AppData\\Local\\Programs\\Python\\Python37-32\\lib\\site-packages\\pandas\\core\\indexing.py:670: SettingWithCopyWarning: \n",
      "A value is trying to be set on a copy of a slice from a DataFrame\n",
      "\n",
      "See the caveats in the documentation: https://pandas.pydata.org/pandas-docs/stable/user_guide/indexing.html#returning-a-view-versus-a-copy\n",
      "  iloc._setitem_with_indexer(indexer, value)\n",
      "Preliminary assignment quality: 29\n",
      "C:\\Users\\Art\\AppData\\Local\\Programs\\Python\\Python37-32\\lib\\site-packages\\pandas\\core\\frame.py:4174: SettingWithCopyWarning: \n",
      "A value is trying to be set on a copy of a slice from a DataFrame\n",
      "\n",
      "See the caveats in the documentation: https://pandas.pydata.org/pandas-docs/stable/user_guide/indexing.html#returning-a-view-versus-a-copy\n",
      "  errors=errors,\n",
      "Project finish timestamp: 2021-05-11 16:00:00.361290+00:00\n",
      "Calculation time [s]: 3.7127115726470947\n",
      "Unassigned workers time during project: 18 days 21:30:00\n",
      "Finished.\n"
     ]
    }
   ],
   "source": [
    "from time import time\n",
    "import pandas as pd\n",
    "\n",
    "import tools.lib.task_assignee_estimators.primitive_estimation as estimator\n",
    "\n",
    "\n",
    "\n",
    "\n",
    "solver = estimator.ProposeAssigment()\n",
    "\n",
    "start_date = dfp.start.min()\n",
    "\n",
    "\n",
    "projects = dfp.copy(deep=True)\n",
    "dependencies = dfd.copy(deep=True)\n",
    "\n",
    "solver.av = estimator.create_availability_calendar(number_of_users=9)\n",
    "solver.av['project_id'] = None\n",
    "\n",
    "algo_time_start = time()\n",
    "\n",
    "for sprint in [6,7,8,9,10]:\n",
    "    solver.projects = projects[(projects.sprint < sprint)]\n",
    "    # print(solver.projects[solver.projects.sprint == 6].shape[0])\n",
    "    solver.dependencies = dependencies\n",
    "    solver.av[solver.av.project_id.notnull()]\n",
    "\n",
    "    # # Calculation part\n",
    "    solver.initialize(start_date)\n",
    "    solver.av[solver.av.project_id.notnull()]\n",
    "    # x1 = solver.av.copy(deep=True)\n",
    "\n",
    "    # finish_date = solver.assign_projects_from_last_task_based_on_infinite_resources(partial_update=True, partial_update_from=pd.Timestamp('2021-01-01', tz='UTC'), one_worker_per_project=True)\n",
    "    finish_date = solver.assign_projects_by_start_based_on_infinite_resources(partial_update=True, partial_update_from=pd.Timestamp('2021-01-01', tz='UTC'), one_worker_per_project=True)\n",
    "\n",
    "    solver.av[solver.av.project_id.notnull()]\n",
    "    # x2 = solver.av.copy(deep=True)\n",
    "\n",
    "    solver.update_projects()\n",
    "    solver.av[solver.av.project_id.notnull()]\n",
    "\n",
    "\n",
    "    for index, row in solver.projects.iterrows(): # TODO: find better way to update\n",
    "        projects.loc[projects.project_id == row['project_id'], 'start'] = solver.projects[solver.projects.project_id == row['project_id']].start.iloc[0]\n",
    "        projects.loc[projects.project_id == row['project_id'], 'finish'] = solver.projects[solver.projects.project_id == row['project_id']].finish.iloc[0]\n",
    "\n",
    "\n",
    "    break\n",
    "\n",
    "# ## resolve rest (NULLs)\n",
    "# solver.projects = projects\n",
    "# # print(solver.projects[solver.projects.sprint == 6].shape[0])\n",
    "# solver.dependencies = dependencies\n",
    "\n",
    "# # # Calculation part\n",
    "# solver.initialize(start_date)\n",
    "\n",
    "# finish_date = solver.assign_projects_by_start_based_on_infinite_resources(partial_update=True, partial_update_from=pd.Timestamp('2021-01-01', tz='UTC'), one_worker_per_project=True)\n",
    "\n",
    "# solver.update_projects()\n",
    "\n",
    "# # projects[(projects.sprint < sprint), 'start'] = solver.projects\n",
    "# for index, row in solver.projects.iterrows(): # TODO: find better way to update\n",
    "#     projects.loc[projects.project_id == row['project_id'], 'start'] = solver.projects[solver.projects.project_id == row['project_id']].start.iloc[0]\n",
    "#     projects.loc[projects.project_id == row['project_id'], 'finish'] = solver.projects[solver.projects.project_id == row['project_id']].finish.iloc[0]\n",
    "\n",
    "\n",
    "algo_time_finish = time()\n",
    "\n",
    "print('Project finish timestamp: ' + str(finish_date))\n",
    "print('Calculation time [s]: ' + str(algo_time_finish - algo_time_start))\n",
    "print('Unassigned workers time during project: ' + str((solver.av[solver.av.project_id.isnull() & (solver.av.start <= finish_date)].finish - solver.av[solver.av.project_id.isnull() & (solver.av.start <= finish_date)].start).sum()))\n",
    "\n",
    "print(\"Finished.\")\n",
    "\n",
    "\n"
   ]
  },
  {
   "cell_type": "code",
   "execution_count": 14,
   "metadata": {},
   "outputs": [
    {
     "output_type": "stream",
     "name": "stdout",
     "text": [
      "min:  2021-04-20 11:30:00.317826+00:00\nmin:  2021-05-12 15:30:00.317826+00:00\n"
     ]
    }
   ],
   "source": [
    "sprt = 6\n",
    "print(\"min: \", solver.projects[solver.projects.sprint == sprt].start.min())\n",
    "print(\"min: \", solver.projects[solver.projects.sprint == sprt].start.max())"
   ]
  },
  {
   "cell_type": "code",
   "execution_count": 5,
   "metadata": {},
   "outputs": [
    {
     "output_type": "stream",
     "name": "stderr",
     "text": [
      "d:\\pmt_x\\tools\\lib\\pmtx_client\\mutate_baselines.py:42: SettingWithCopyWarning: \n",
      "A value is trying to be set on a copy of a slice from a DataFrame.\n",
      "Try using .loc[row_indexer,col_indexer] = value instead\n",
      "\n",
      "See the caveats in the documentation: https://pandas.pydata.org/pandas-docs/stable/user_guide/indexing.html#returning-a-view-versus-a-copy\n",
      "  children['parent_id'] = root_id\n",
      "Finished.\n"
     ]
    }
   ],
   "source": [
    "import tools.lib.pmtx_client.mutate_baselines as mb\n",
    "\n",
    "solver.projects.drop(columns=['sprint'], inplace=True)\n",
    "\n",
    "root_id = \"0x7bd\"\n",
    "baseline_name = \"infinite_resources_10\"\n",
    "# baseline_name = \"limited_8_sprint_5_only\"\n",
    "\n",
    "\n",
    "baseline_id = mb.add_baseline_and_return_id(url, baseline_name, root_id)\n",
    "mb.add_project_baseline(url, solver.projects, baseline_id, root_id)\n",
    "mb.modify_project_baseline_predecessors(url, solver.dependencies, baseline_id)\n",
    "# mb.add_resource_baseline(url, solver.av, baseline_id)\n",
    "\n",
    "print(\"Finished.\")"
   ]
  },
  {
   "cell_type": "code",
   "execution_count": 9,
   "metadata": {},
   "outputs": [
    {
     "output_type": "execute_result",
     "data": {
      "text/plain": [
       "    project_id predecessor_id type\n",
       "0         0x69           0x9d   FS\n",
       "1        0x137          0x12f   FS\n",
       "2        0x137           0x9d   FS\n",
       "3        0x141          0x137   FS\n",
       "4         0x89           0x83   FS\n",
       "..         ...            ...  ...\n",
       "395      0x4ed          0x632   FS\n",
       "396      0x4ed          0x6ad   FS\n",
       "397      0x2ce          0x6ce   FS\n",
       "398      0x355          0x2ce   FS\n",
       "399      0x66d          0x759   FS\n",
       "\n",
       "[400 rows x 3 columns]"
      ],
      "text/html": "<div>\n<style scoped>\n    .dataframe tbody tr th:only-of-type {\n        vertical-align: middle;\n    }\n\n    .dataframe tbody tr th {\n        vertical-align: top;\n    }\n\n    .dataframe thead th {\n        text-align: right;\n    }\n</style>\n<table border=\"1\" class=\"dataframe\">\n  <thead>\n    <tr style=\"text-align: right;\">\n      <th></th>\n      <th>project_id</th>\n      <th>predecessor_id</th>\n      <th>type</th>\n    </tr>\n  </thead>\n  <tbody>\n    <tr>\n      <th>0</th>\n      <td>0x69</td>\n      <td>0x9d</td>\n      <td>FS</td>\n    </tr>\n    <tr>\n      <th>1</th>\n      <td>0x137</td>\n      <td>0x12f</td>\n      <td>FS</td>\n    </tr>\n    <tr>\n      <th>2</th>\n      <td>0x137</td>\n      <td>0x9d</td>\n      <td>FS</td>\n    </tr>\n    <tr>\n      <th>3</th>\n      <td>0x141</td>\n      <td>0x137</td>\n      <td>FS</td>\n    </tr>\n    <tr>\n      <th>4</th>\n      <td>0x89</td>\n      <td>0x83</td>\n      <td>FS</td>\n    </tr>\n    <tr>\n      <th>...</th>\n      <td>...</td>\n      <td>...</td>\n      <td>...</td>\n    </tr>\n    <tr>\n      <th>395</th>\n      <td>0x4ed</td>\n      <td>0x632</td>\n      <td>FS</td>\n    </tr>\n    <tr>\n      <th>396</th>\n      <td>0x4ed</td>\n      <td>0x6ad</td>\n      <td>FS</td>\n    </tr>\n    <tr>\n      <th>397</th>\n      <td>0x2ce</td>\n      <td>0x6ce</td>\n      <td>FS</td>\n    </tr>\n    <tr>\n      <th>398</th>\n      <td>0x355</td>\n      <td>0x2ce</td>\n      <td>FS</td>\n    </tr>\n    <tr>\n      <th>399</th>\n      <td>0x66d</td>\n      <td>0x759</td>\n      <td>FS</td>\n    </tr>\n  </tbody>\n</table>\n<p>400 rows × 3 columns</p>\n</div>"
     },
     "metadata": {},
     "execution_count": 9
    }
   ],
   "source": [
    "solver.dependencies"
   ]
  },
  {
   "cell_type": "code",
   "execution_count": 2,
   "metadata": {},
   "outputs": [
    {
     "output_type": "stream",
     "name": "stdout",
     "text": [
      "1926\n",
      "1926\n",
      "Project finish timestamp: 2021-03-04 05:13:00+00:00\n",
      "Calculation time [s]: 1.0838160514831543\n",
      "Finished.\n"
     ]
    }
   ],
   "source": [
    "from time import time\n",
    "import pandas as pd\n",
    "\n",
    "import tools.lib.task_assignee_estimators.primitive_estimation as estimator\n",
    "\n",
    "\n",
    "\n",
    "\n",
    "\n",
    "\n",
    "solver = estimator.ProposeAssigment()\n",
    "\n",
    "start_date = dfp.start.min()\n",
    "\n",
    "solver.projects = dfp.copy(deep=True)\n",
    "solver.dependencies = dfd.copy(deep=True)\n",
    "# solver.av = pd.DataFrame([], columns=['user_id', 'start', 'finish'])\n",
    "solver.av = estimator.create_availability_calendar(number_of_users=9)\n",
    "# solver.av = expander.create_availability_frame()\n",
    "solver.av['project_id'] = None\n",
    "print(solver.av.shape[0])\n",
    "\n",
    "# Calculation part\n",
    "\n",
    "solver.initialize(start_date)\n",
    "\n",
    "\n",
    "algo_time_start = time()\n",
    "\n",
    "\n",
    "finish_date = solver.assign_projects_infinite_resources()\n",
    "# finish_date = solver.assign_projects_to_resources_first_free(one_worker_per_project=True)\n",
    "# finish_date = solver.assign_projects_by_start_based_on_infinite_resources(one_worker_per_project=True)\n",
    "# finish_date = solver.assign_projects_by_start_based_on_infinite_resources(partial_update=True, partial_update_from=pd.Timestamp('2021-01-01', tz='UTC'), one_worker_per_project=True)\n",
    "\n",
    "print(solver.av.shape[0])\n",
    "solver.update_projects()\n",
    "\n",
    "algo_time_finish = time()\n",
    "\n",
    "print('Project finish timestamp: ' + str(finish_date))\n",
    "print('Calculation time [s]: ' + str(algo_time_finish - algo_time_start))\n",
    "# print('Unassigned workers time during project: ' + str((solver.av[solver.av.project_id.isnull() & (solver.av.start <= finish_date)].finish - solver.av[solver.av.project_id.isnull() & (solver.av.start <= finish_date)].start).sum()))\n",
    "\n",
    "print(\"Finished.\")"
   ]
  },
  {
   "cell_type": "code",
   "execution_count": 38,
   "metadata": {},
   "outputs": [
    {
     "output_type": "execute_result",
     "data": {
      "text/plain": [
       "                                start                           finish  \\\n",
       "0    2021-04-19 08:00:00.319256+00:00 2021-04-19 15:00:00.319256+00:00   \n",
       "1    2021-04-20 08:00:00.319256+00:00 2021-04-20 15:00:00.319256+00:00   \n",
       "2    2021-04-21 08:00:00.319256+00:00 2021-04-21 16:00:00.319256+00:00   \n",
       "3    2021-04-22 08:00:00.319256+00:00 2021-04-22 16:00:00.319256+00:00   \n",
       "4    2021-04-23 08:00:00.319256+00:00 2021-04-23 09:00:00.319256+00:00   \n",
       "...                               ...                              ...   \n",
       "2148 2021-05-21 14:00:00.319256+00:00 2021-05-21 16:00:00.319256+00:00   \n",
       "2149 2021-05-24 10:00:00.319256+00:00 2021-05-24 14:00:00.319256+00:00   \n",
       "2150 2021-05-25 11:30:00.319256+00:00 2021-05-25 12:00:00.319256+00:00   \n",
       "2151 2021-05-24 14:00:00.319256+00:00 2021-05-24 16:00:00.319256+00:00   \n",
       "2154 2021-05-24 14:00:00.319256+00:00 2021-05-24 16:00:00.319256+00:00   \n",
       "\n",
       "      user_id project_id  \n",
       "0           0      0x551  \n",
       "1           0      0x12e  \n",
       "2           0      0x6bf  \n",
       "3           0      0x6bf  \n",
       "4           0      0x6bf  \n",
       "...       ...        ...  \n",
       "2148        0        0xb  \n",
       "2149        0       0xb1  \n",
       "2150        0       0xc9  \n",
       "2151        7      0x111  \n",
       "2154        0       0xc9  \n",
       "\n",
       "[331 rows x 4 columns]"
      ],
      "text/html": "<div>\n<style scoped>\n    .dataframe tbody tr th:only-of-type {\n        vertical-align: middle;\n    }\n\n    .dataframe tbody tr th {\n        vertical-align: top;\n    }\n\n    .dataframe thead th {\n        text-align: right;\n    }\n</style>\n<table border=\"1\" class=\"dataframe\">\n  <thead>\n    <tr style=\"text-align: right;\">\n      <th></th>\n      <th>start</th>\n      <th>finish</th>\n      <th>user_id</th>\n      <th>project_id</th>\n    </tr>\n  </thead>\n  <tbody>\n    <tr>\n      <th>0</th>\n      <td>2021-04-19 08:00:00.319256+00:00</td>\n      <td>2021-04-19 15:00:00.319256+00:00</td>\n      <td>0</td>\n      <td>0x551</td>\n    </tr>\n    <tr>\n      <th>1</th>\n      <td>2021-04-20 08:00:00.319256+00:00</td>\n      <td>2021-04-20 15:00:00.319256+00:00</td>\n      <td>0</td>\n      <td>0x12e</td>\n    </tr>\n    <tr>\n      <th>2</th>\n      <td>2021-04-21 08:00:00.319256+00:00</td>\n      <td>2021-04-21 16:00:00.319256+00:00</td>\n      <td>0</td>\n      <td>0x6bf</td>\n    </tr>\n    <tr>\n      <th>3</th>\n      <td>2021-04-22 08:00:00.319256+00:00</td>\n      <td>2021-04-22 16:00:00.319256+00:00</td>\n      <td>0</td>\n      <td>0x6bf</td>\n    </tr>\n    <tr>\n      <th>4</th>\n      <td>2021-04-23 08:00:00.319256+00:00</td>\n      <td>2021-04-23 09:00:00.319256+00:00</td>\n      <td>0</td>\n      <td>0x6bf</td>\n    </tr>\n    <tr>\n      <th>...</th>\n      <td>...</td>\n      <td>...</td>\n      <td>...</td>\n      <td>...</td>\n    </tr>\n    <tr>\n      <th>2148</th>\n      <td>2021-05-21 14:00:00.319256+00:00</td>\n      <td>2021-05-21 16:00:00.319256+00:00</td>\n      <td>0</td>\n      <td>0xb</td>\n    </tr>\n    <tr>\n      <th>2149</th>\n      <td>2021-05-24 10:00:00.319256+00:00</td>\n      <td>2021-05-24 14:00:00.319256+00:00</td>\n      <td>0</td>\n      <td>0xb1</td>\n    </tr>\n    <tr>\n      <th>2150</th>\n      <td>2021-05-25 11:30:00.319256+00:00</td>\n      <td>2021-05-25 12:00:00.319256+00:00</td>\n      <td>0</td>\n      <td>0xc9</td>\n    </tr>\n    <tr>\n      <th>2151</th>\n      <td>2021-05-24 14:00:00.319256+00:00</td>\n      <td>2021-05-24 16:00:00.319256+00:00</td>\n      <td>7</td>\n      <td>0x111</td>\n    </tr>\n    <tr>\n      <th>2154</th>\n      <td>2021-05-24 14:00:00.319256+00:00</td>\n      <td>2021-05-24 16:00:00.319256+00:00</td>\n      <td>0</td>\n      <td>0xc9</td>\n    </tr>\n  </tbody>\n</table>\n<p>331 rows × 4 columns</p>\n</div>"
     },
     "metadata": {},
     "execution_count": 38
    }
   ],
   "source": [
    "solver.av[solver.av.project_id.notnull()]"
   ]
  },
  {
   "cell_type": "code",
   "execution_count": 4,
   "metadata": {},
   "outputs": [],
   "source": [
    "\n",
    "\n",
    "\n"
   ]
  },
  {
   "cell_type": "code",
   "execution_count": null,
   "metadata": {},
   "outputs": [],
   "source": []
  }
 ]
}