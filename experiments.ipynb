{
 "metadata": {
  "language_info": {
   "codemirror_mode": {
    "name": "ipython",
    "version": 3
   },
   "file_extension": ".py",
   "mimetype": "text/x-python",
   "name": "python",
   "nbconvert_exporter": "python",
   "pygments_lexer": "ipython3",
   "version": "3.7.3"
  },
  "orig_nbformat": 2,
  "kernelspec": {
   "name": "python3",
   "display_name": "Python 3",
   "language": "python"
  }
 },
 "nbformat": 4,
 "nbformat_minor": 2,
 "cells": [
  {
   "cell_type": "code",
   "execution_count": 1,
   "metadata": {},
   "outputs": [],
   "source": [
    "filename = 'O2 Grouper Pipeline - Task List.xlsx'"
   ]
  },
  {
   "cell_type": "code",
   "execution_count": 11,
   "metadata": {
    "tags": []
   },
   "outputs": [
    {
     "output_type": "stream",
     "name": "stdout",
     "text": [
      "!!! FINISHED !!!\n"
     ]
    }
   ],
   "source": [
    "from openpyxl import load_workbook\n",
    "from openpyxl.styles import Font\n",
    "from dateutil import parser\n",
    "import rfc3339\n",
    "from datetime import datetime\n",
    "\n",
    "\n",
    "from tools.lib.rdf_project_creator import RDF\n",
    "from tools.lib.wbs import WBS\n",
    "\n",
    "\n",
    "\n",
    "\n",
    "def str_to_rfc(datetime):\n",
    "    return rfc3339.rfc3339(parser.parse(datetime))\n",
    "\n",
    "\n",
    "\n",
    "schema = {\n",
    "    \"starting_data_row\": 3,\n",
    "    \"columns\": {\n",
    "        \"wbs\": \"A\",\n",
    "        \"name\": \"B\",\n",
    "        \"description\": \"C\",\n",
    "        \"dependency\": \"D\",\n",
    "        \"estimated_development_time_designer\": \"E\",\n",
    "        \"estimated_development_time_reviewer\": \"F\",\n",
    "        \"estimated_development_time_pm\": \"G\",\n",
    "        \"estimated_development_time_summary\": \"H\",\n",
    "        \"assigned_developer\": \"I\",\n",
    "        \"actual_development_time_start\": \"J\",\n",
    "        \"actual_development_time_finish\": \"K\",\n",
    "        \"actual_development_time_duration\": \"L\",\n",
    "        \"commit_statistics_insertions\": \"M\",\n",
    "        \"commit_statistics_deletions\": \"N\",\n",
    "        \"code_documentation_time\": \"O\",\n",
    "        \"jira_id\": \"P\",\n",
    "        \"commit_id\": \"Q\",\n",
    "        \"sprint\": \"R\",\n",
    "        \"comment\": \"S\"\n",
    "    }\n",
    "}\n",
    "\n",
    "\n",
    "path = './tools/'\n",
    "workbook = load_workbook(path + filename)\n",
    "sheet = workbook['Tasks']\n",
    "\n",
    "\n",
    "\n",
    "rdf = RDF()\n",
    "\n",
    "rdf.add_root(filename)\n",
    "rdf.add_baseline_planned('Plan at ' + datetime.now().strftime(\"%Y %b %d, %H:%M\"))\n",
    "\n",
    "\n",
    "exc_lst = ['wbs', 'name', 'description', 'actual_development_time_duration', 'actual_development_time_start', 'actual_development_time_finish']\n",
    "\n",
    "i = schema['starting_data_row']\n",
    "while sheet[schema['columns']['wbs'] + str(i)].value is not None:\n",
    "\n",
    "    if WBS.check(sheet[schema['columns']['wbs'] + str(i)].value) or sheet[schema['columns']['name'] + str(i)].value is None:\n",
    "\n",
    "        project = {\n",
    "            \"id\": sheet[schema['columns']['wbs'] + str(i)].value,\n",
    "            \"name\": sheet[schema['columns']['name'] + str(i)].value,\n",
    "            \"description\": str(sheet[schema['columns']['description'] + str(i)].value).replace('\"', '\\\\\\\"'),\n",
    "            \"wbs\": WBS.normalize(sheet[schema['columns']['wbs'] + str(i)].value),\n",
    "            \"parent_id\": WBS.parent(sheet[schema['columns']['wbs'] + str(i)].value)\n",
    "        }\n",
    "\n",
    "        if sheet[schema['columns']['actual_development_time_duration'] + str(i)].value is not None:\n",
    "            project['worktime'] = str(sheet[schema['columns']['actual_development_time_duration'] + str(i)].value) + 'h'\n",
    "\n",
    "        if sheet[schema['columns']['actual_development_time_start'] + str(i)].value is not None:\n",
    "            project['start'] = str_to_rfc(sheet[schema['columns']['actual_development_time_start'] + str(i)].value + ' UTC')\n",
    "        if sheet[schema['columns']['actual_development_time_finish'] + str(i)].value is not None:\n",
    "            project['finish'] = str_to_rfc(sheet[schema['columns']['actual_development_time_finish'] + str(i)].value + ' UTC')\n",
    "\n",
    "        for key in schema['columns']:\n",
    "            if key not in exc_lst and sheet[schema['columns'][key] + str(i)].value is not None:\n",
    "                project[key] = sheet[schema['columns'][key] + str(i)].value\n",
    "\n",
    "\n",
    "        project_planned = {\n",
    "            \"id\": project['id'],\n",
    "            \"wbs\": project['wbs'],\n",
    "            \"parent_id\": project['parent_id']\n",
    "        }\n",
    "\n",
    "        if sheet[schema['columns']['estimated_development_time_summary'] + str(i)].value is not None:\n",
    "            project_planned['worktime'] = str(sheet[schema['columns']['estimated_development_time_summary'] + str(i)].value) + 'h'\n",
    "\n",
    "\n",
    "        rdf.add_project(**project)\n",
    "        rdf.add_project_baseline_planned(**project_planned)\n",
    "\n",
    "    else:\n",
    "        print(\"ERROR: It is not WBS structure or task does not have a name: \" + sheet[schema['columns']['wbs'] + str(i)].value + \" \" + sheet[schema['columns']['name'] + str(i)].value)\n",
    "\n",
    "    i = i + 1\n",
    "\n",
    "print(\"!!! FINISHED !!!\")\n",
    "    \n",
    "\n"
   ]
  },
  {
   "cell_type": "code",
   "execution_count": 12,
   "metadata": {},
   "outputs": [
    {
     "output_type": "stream",
     "name": "stdout",
     "text": [
      "Data sent successfully.\n"
     ]
    }
   ],
   "source": [
    "import pydgraph\n",
    "\n",
    "\n",
    "url = 'localhost:9080'\n",
    "\n",
    "client_stub = pydgraph.DgraphClientStub(url)\n",
    "client = pydgraph.DgraphClient(client_stub)\n",
    "\n",
    "txn = client.txn()\n",
    "\n",
    "try:\n",
    "    txn.mutate(set_nquads=str(rdf))\n",
    "    txn.commit()\n",
    "except pydgraph.AbortedError:\n",
    "    # Retry or handle exception.\n",
    "    txn.discard()\n",
    "    print(pydgraph.AbortedError)\n",
    "finally:\n",
    "    txn.discard()\n",
    "    print('Data sent successfully.')"
   ]
  },
  {
   "cell_type": "code",
   "execution_count": null,
   "metadata": {},
   "outputs": [],
   "source": []
  }
 ]
}