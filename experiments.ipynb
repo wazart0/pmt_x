{
 "metadata": {
  "language_info": {
   "codemirror_mode": {
    "name": "ipython",
    "version": 3
   },
   "file_extension": ".py",
   "mimetype": "text/x-python",
   "name": "python",
   "nbconvert_exporter": "python",
   "pygments_lexer": "ipython3",
   "version": "3.7.3"
  },
  "orig_nbformat": 2,
  "kernelspec": {
   "name": "python37332bita337cb3d562a459886fc6e869b497776",
   "display_name": "Python 3.7.3 32-bit"
  },
  "metadata": {
   "interpreter": {
    "hash": "34d317d93a37d772ab695795c108f15790d28cc6671edffe18ba0ccb60337721"
   }
  }
 },
 "nbformat": 4,
 "nbformat_minor": 2,
 "cells": [
  {
   "cell_type": "code",
   "execution_count": 1,
   "metadata": {},
   "outputs": [],
   "source": [
    "filenames = [\n",
    "    'O2 Grouper Pipeline - Task List.xlsx',\n",
    "    'P2 v3 Authorization_DS manager - list of tasks.xlsx',\n",
    "    'P2 v3 Replatforming Tasks List.xlsx',\n",
    "    # 'P2 testing tasks.xlsx',\n",
    "]\n"
   ]
  },
  {
   "cell_type": "code",
   "execution_count": 2,
   "metadata": {
    "tags": []
   },
   "outputs": [
    {
     "output_type": "stream",
     "name": "stdout",
     "text": [
      "Ingesting:  O2 Grouper Pipeline - Task List.xlsx\n",
      "!!! FINISHED !!!\n",
      "Finished ingestion:  O2 Grouper Pipeline - Task List.xlsx\n",
      "Ingesting:  P2 v3 Authorization_DS manager - list of tasks.xlsx\n",
      "!!! FINISHED !!!\n",
      "Finished ingestion:  P2 v3 Authorization_DS manager - list of tasks.xlsx\n",
      "Ingesting:  P2 v3 Replatforming Tasks List.xlsx\n",
      "!!! FINISHED !!!\n",
      "Finished ingestion:  P2 v3 Replatforming Tasks List.xlsx\n"
     ]
    }
   ],
   "source": [
    "import tools.dev_o2_excel_ingestor as o2\n",
    "\n",
    "for filename in filenames:\n",
    "    print(\"Ingesting: \", filename)\n",
    "    rdf = o2.generate_rdf_from_xlsx('./tools/', filename)\n",
    "    o2.send_rdf_to_dgraph('localhost:9080', rdf)\n",
    "    print(\"Finished ingestion: \", filename)\n",
    "\n"
   ]
  },
  {
   "cell_type": "code",
   "execution_count": 1,
   "metadata": {},
   "outputs": [
    {
     "output_type": "stream",
     "name": "stdout",
     "text": [
      "Finished.\n"
     ]
    }
   ],
   "source": [
    "import tools.lib.pmtx_client.query_baselines as rb\n",
    "\n",
    "\n",
    "url = 'http://localhost:8080/graphql'\n",
    "\n",
    "\n",
    "query_project_filter = {\n",
    "    \"name\": {\"allofterms\": \"P2 v3 Replatforming Tasks List.xlsx\"}, \n",
    "    \"or\": {\n",
    "        \"name\": {\"allofterms\": \"O2 Grouper Pipeline - Task List.xlsx\"}, \n",
    "        \"or\": {\n",
    "            \"name\": {\"allofterms\": \"P2 v3 Authorization_DS manager - list of tasks.xlsx\"}\n",
    "        }\n",
    "    }\n",
    "}\n",
    "\n",
    "\n",
    "normalized_baseline = rb.request_and_normalize_baselines_from_pmtx(url, query_project_filter)\n",
    "dfp, dfd = rb.baseline_to_pandas_df(normalized_baseline)\n",
    "\n",
    "print(\"Finished.\")\n"
   ]
  },
  {
   "cell_type": "code",
   "execution_count": 19,
   "metadata": {},
   "outputs": [
    {
     "output_type": "stream",
     "name": "stderr",
     "text": [
      "d:\\pmt_x\\tools\\lib\\primitive_estimation.py:290: SettingWithCopyWarning: \n",
      "A value is trying to be set on a copy of a slice from a DataFrame\n",
      "\n",
      "See the caveats in the documentation: https://pandas.pydata.org/pandas-docs/stable/user_guide/indexing.html#returning-a-view-versus-a-copy\n",
      "  self.lp.start[self.lp.start.isnull()] = partial_update_from\n",
      "d:\\pmt_x\\tools\\lib\\primitive_estimation.py:146: SettingWithCopyWarning: \n",
      "A value is trying to be set on a copy of a slice from a DataFrame\n",
      "\n",
      "See the caveats in the documentation: https://pandas.pydata.org/pandas-docs/stable/user_guide/indexing.html#returning-a-view-versus-a-copy\n",
      "  new_row['project_id'] = None\n",
      "d:\\pmt_x\\tools\\lib\\primitive_estimation.py:148: SettingWithCopyWarning: \n",
      "A value is trying to be set on a copy of a slice from a DataFrame\n",
      "\n",
      "See the caveats in the documentation: https://pandas.pydata.org/pandas-docs/stable/user_guide/indexing.html#returning-a-view-versus-a-copy\n",
      "  new_row['start'] = self.av.at[index, 'finish']\n",
      "C:\\Users\\Art\\AppData\\Local\\Programs\\Python\\Python37-32\\lib\\site-packages\\pandas\\core\\indexing.py:670: SettingWithCopyWarning: \n",
      "A value is trying to be set on a copy of a slice from a DataFrame\n",
      "\n",
      "See the caveats in the documentation: https://pandas.pydata.org/pandas-docs/stable/user_guide/indexing.html#returning-a-view-versus-a-copy\n",
      "  iloc._setitem_with_indexer(indexer, value)\n",
      "Preliminary assignment quality: 67\n",
      "Project finish timestamp: 2021-05-28 11:00:00.208994+00:00\n",
      "Calculation time [s]: 7.126704454421997\n",
      "Unassigned workers time during project: 33 days 15:00:00\n",
      "Finished.\n"
     ]
    }
   ],
   "source": [
    "from time import time\n",
    "import pandas as pd\n",
    "\n",
    "import tools.lib.primitive_estimation as estimator\n",
    "\n",
    "\n",
    "\n",
    "\n",
    "solver = estimator.ProposeAssigment()\n",
    "\n",
    "start_date = dfp.start.min()\n",
    "\n",
    "solver.projects = dfp.copy(deep=True)\n",
    "solver.dependencies = dfd.copy(deep=True)\n",
    "# solver.av = pd.DataFrame([], columns=['user_id', 'start', 'finish'])\n",
    "solver.av = estimator.create_availability_calendar(number_of_users=9)\n",
    "# solver.av = expander.create_availability_frame()\n",
    "\n",
    "# Calculation part\n",
    "\n",
    "solver.initialize(start_date)\n",
    "\n",
    "\n",
    "algo_time_start = time()\n",
    "\n",
    "\n",
    "# finish_date = solver.assign_projects_infinite_resources()\n",
    "# finish_date = solver.assign_projects_to_resources_first_free(one_worker_per_project=True)\n",
    "# finish_date = solver.assign_projects_by_start_based_on_infinite_resources(one_worker_per_project=True)\n",
    "finish_date = solver.assign_projects_by_start_based_on_infinite_resources(partial_update=True, partial_update_from=pd.Timestamp('2021-01-01', tz='UTC'), one_worker_per_project=True)\n",
    "\n",
    "solver.update_projects()\n",
    "\n",
    "algo_time_finish = time()\n",
    "\n",
    "print('Project finish timestamp: ' + str(finish_date))\n",
    "print('Calculation time [s]: ' + str(algo_time_finish - algo_time_start))\n",
    "print('Unassigned workers time during project: ' + str((solver.av[solver.av.project_id.isnull() & (solver.av.start <= finish_date)].finish - solver.av[solver.av.project_id.isnull() & (solver.av.start <= finish_date)].start).sum()))\n",
    "\n",
    "print(\"Finished.\")\n",
    "\n",
    "\n"
   ]
  },
  {
   "cell_type": "code",
   "execution_count": 20,
   "metadata": {},
   "outputs": [
    {
     "output_type": "stream",
     "name": "stderr",
     "text": [
      "d:\\pmt_x\\tools\\lib\\pmtx_client\\mutate_baselines.py:42: SettingWithCopyWarning: \n",
      "A value is trying to be set on a copy of a slice from a DataFrame.\n",
      "Try using .loc[row_indexer,col_indexer] = value instead\n",
      "\n",
      "See the caveats in the documentation: https://pandas.pydata.org/pandas-docs/stable/user_guide/indexing.html#returning-a-view-versus-a-copy\n",
      "  children['parent_id'] = root_id\n",
      "Finished.\n"
     ]
    }
   ],
   "source": [
    "import tools.lib.pmtx_client.mutate_baselines as mb\n",
    "\n",
    "\n",
    "root_id = \"0x743\"\n",
    "# baseline_name = \"infinite_resources_6\"\n",
    "baseline_name = \"limited_6\"\n",
    "\n",
    "\n",
    "baseline_id = mb.add_baseline_and_return_id(url, baseline_name, root_id)\n",
    "mb.add_project_baseline(url, solver.projects, baseline_id, root_id)\n",
    "# TODO: add dependencies\n",
    "mb.add_resource_baseline(url, solver.av, baseline_id)\n",
    "\n",
    "print(\"Finished.\")"
   ]
  },
  {
   "cell_type": "code",
   "execution_count": 17,
   "metadata": {},
   "outputs": [],
   "source": []
  },
  {
   "cell_type": "code",
   "execution_count": 16,
   "metadata": {},
   "outputs": [
    {
     "output_type": "execute_result",
     "data": {
      "text/plain": [
       "                                start                           finish  \\\n",
       "0    2021-04-19 08:00:00.208994+00:00 2021-04-19 16:00:00.208994+00:00   \n",
       "1    2021-04-20 08:00:00.208994+00:00 2021-04-20 16:00:00.208994+00:00   \n",
       "2    2021-04-21 08:00:00.208994+00:00 2021-04-21 16:00:00.208994+00:00   \n",
       "3    2021-04-22 08:00:00.208994+00:00 2021-04-22 16:00:00.208994+00:00   \n",
       "4    2021-04-23 08:00:00.208994+00:00 2021-04-23 11:30:00.208994+00:00   \n",
       "...                               ...                              ...   \n",
       "1687 2021-06-02 14:00:00.208994+00:00 2021-06-02 16:00:00.208994+00:00   \n",
       "1688 2021-06-03 10:00:00.208994+00:00 2021-06-03 14:00:00.208994+00:00   \n",
       "1689 2021-06-03 14:00:00.208994+00:00 2021-06-03 16:00:00.208994+00:00   \n",
       "1692 2021-06-04 13:00:00.208994+00:00 2021-06-04 16:00:00.208994+00:00   \n",
       "1694 2021-06-03 14:00:00.208994+00:00 2021-06-03 16:00:00.208994+00:00   \n",
       "\n",
       "      user_id project_id  \n",
       "0           0      0x52d  \n",
       "1           0      0x19c  \n",
       "2           0      0x19c  \n",
       "3           0      0x4cc  \n",
       "4           0      0x4cc  \n",
       "...       ...        ...  \n",
       "1687        5       0xae  \n",
       "1688        5      0x15b  \n",
       "1689        5       0x8c  \n",
       "1692        3      0x16d  \n",
       "1694        2       0xe5  \n",
       "\n",
       "[307 rows x 4 columns]"
      ],
      "text/html": "<div>\n<style scoped>\n    .dataframe tbody tr th:only-of-type {\n        vertical-align: middle;\n    }\n\n    .dataframe tbody tr th {\n        vertical-align: top;\n    }\n\n    .dataframe thead th {\n        text-align: right;\n    }\n</style>\n<table border=\"1\" class=\"dataframe\">\n  <thead>\n    <tr style=\"text-align: right;\">\n      <th></th>\n      <th>start</th>\n      <th>finish</th>\n      <th>user_id</th>\n      <th>project_id</th>\n    </tr>\n  </thead>\n  <tbody>\n    <tr>\n      <th>0</th>\n      <td>2021-04-19 08:00:00.208994+00:00</td>\n      <td>2021-04-19 16:00:00.208994+00:00</td>\n      <td>0</td>\n      <td>0x52d</td>\n    </tr>\n    <tr>\n      <th>1</th>\n      <td>2021-04-20 08:00:00.208994+00:00</td>\n      <td>2021-04-20 16:00:00.208994+00:00</td>\n      <td>0</td>\n      <td>0x19c</td>\n    </tr>\n    <tr>\n      <th>2</th>\n      <td>2021-04-21 08:00:00.208994+00:00</td>\n      <td>2021-04-21 16:00:00.208994+00:00</td>\n      <td>0</td>\n      <td>0x19c</td>\n    </tr>\n    <tr>\n      <th>3</th>\n      <td>2021-04-22 08:00:00.208994+00:00</td>\n      <td>2021-04-22 16:00:00.208994+00:00</td>\n      <td>0</td>\n      <td>0x4cc</td>\n    </tr>\n    <tr>\n      <th>4</th>\n      <td>2021-04-23 08:00:00.208994+00:00</td>\n      <td>2021-04-23 11:30:00.208994+00:00</td>\n      <td>0</td>\n      <td>0x4cc</td>\n    </tr>\n    <tr>\n      <th>...</th>\n      <td>...</td>\n      <td>...</td>\n      <td>...</td>\n      <td>...</td>\n    </tr>\n    <tr>\n      <th>1687</th>\n      <td>2021-06-02 14:00:00.208994+00:00</td>\n      <td>2021-06-02 16:00:00.208994+00:00</td>\n      <td>5</td>\n      <td>0xae</td>\n    </tr>\n    <tr>\n      <th>1688</th>\n      <td>2021-06-03 10:00:00.208994+00:00</td>\n      <td>2021-06-03 14:00:00.208994+00:00</td>\n      <td>5</td>\n      <td>0x15b</td>\n    </tr>\n    <tr>\n      <th>1689</th>\n      <td>2021-06-03 14:00:00.208994+00:00</td>\n      <td>2021-06-03 16:00:00.208994+00:00</td>\n      <td>5</td>\n      <td>0x8c</td>\n    </tr>\n    <tr>\n      <th>1692</th>\n      <td>2021-06-04 13:00:00.208994+00:00</td>\n      <td>2021-06-04 16:00:00.208994+00:00</td>\n      <td>3</td>\n      <td>0x16d</td>\n    </tr>\n    <tr>\n      <th>1694</th>\n      <td>2021-06-03 14:00:00.208994+00:00</td>\n      <td>2021-06-03 16:00:00.208994+00:00</td>\n      <td>2</td>\n      <td>0xe5</td>\n    </tr>\n  </tbody>\n</table>\n<p>307 rows × 4 columns</p>\n</div>"
     },
     "metadata": {},
     "execution_count": 16
    }
   ],
   "source": [
    "solver.av[solver.av.project_id.notnull()]"
   ]
  },
  {
   "cell_type": "code",
   "execution_count": null,
   "metadata": {},
   "outputs": [],
   "source": []
  }
 ]
}